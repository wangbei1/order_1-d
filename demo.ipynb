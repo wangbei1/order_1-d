{
 "cells": [
  {
   "cell_type": "code",
   "execution_count": null,
   "id": "140926f1-774d-4fa2-9bff-6f2af2b4e66b",
   "metadata": {
    "tags": []
   },
   "outputs": [
    {
     "name": "stderr",
     "output_type": "stream",
     "text": [
      "/private/task/jwn/anaconda3/envs/1D_tokeniser/lib/python3.8/site-packages/tqdm/auto.py:21: TqdmWarning: IProgress not found. Please update jupyter and ipywidgets. See https://ipywidgets.readthedocs.io/en/stable/user_install.html\n",
      "  from .autonotebook import tqdm as notebook_tqdm\n"
     ]
    }
   ],
   "source": [
    "import demo_util\n",
    "import numpy as np\n",
    "import torch\n",
    "from PIL import Image\n",
    "import imagenet_classes\n",
    "from IPython.display import display\n",
    "import os\n",
    "from huggingface_hub import hf_hub_download\n",
    "from modeling.titok import PretrainedTokenizer\n",
    "from torchvision.utils import save_image\n"
   ]
  },
  {
   "cell_type": "code",
   "execution_count": 3,
   "id": "e97141d6-ecb3-4c32-bd44-2abb34906824",
   "metadata": {
    "tags": []
   },
   "outputs": [
    {
     "data": {
      "text/plain": [
       "<torch._C.Generator at 0x7f87c8d8ffd0>"
      ]
     },
     "execution_count": 3,
     "metadata": {},
     "output_type": "execute_result"
    }
   ],
   "source": [
    "torch.backends.cuda.matmul.allow_tf32 = True\n",
    "torch.manual_seed(0)"
   ]
  },
  {
   "cell_type": "code",
   "execution_count": null,
   "id": "a54d50f4-3e83-493b-b197-4bd043347e34",
   "metadata": {
    "tags": []
   },
   "outputs": [],
   "source": [
    "def token_add(tokenizer,vqgan,path,mode,ckpt,save_dir,device):\n",
    "    original_image = Image.open(path)\n",
    "    image = torch.from_numpy(np.array(original_image).astype(np.float32)).permute(2, 0, 1).unsqueeze(0) / 255.0\n",
    "    images=torch.zeros((32,3,256,256))\n",
    "    tokenizer.init_from_ckpt_de_and_qu(ckpt)\n",
    "    \n",
    "    if mode==\"stage1\":\n",
    "        z_quantized,_ = tokenizer.encode(image.to(device))\n",
    "        for i in range(32):\n",
    "            mask_tokens=z_quantized[:,:,:,0:i]\n",
    "            decoded_latent = tokenizer.decoder(mask_tokens)\n",
    "            quantized_states = torch.einsum(\n",
    "                'nchw,cd->ndhw', decoded_latent.softmax(1),\n",
    "                vqgan.quantize.embedding.weight)\n",
    "            reconstructed_image = vqgan.decoder(quantized_states)\n",
    "            images[i]=reconstructed_image\n",
    "\n",
    "    if mode==\"stage2\":\n",
    "        z_quantized,_ = tokenizer.encode(image.to(device))\n",
    "        for i in range(32):\n",
    "            mask_tokens=z_quantized[:,:,:,0:i]\n",
    "            decoded_latent = tokenizer.decoder(mask_tokens)\n",
    "            quantized_states = torch.einsum(\n",
    "                'nchw,cd->ndhw', decoded_latent.softmax(1),\n",
    "                tokenizer.pixel_quantize.embedding.weight)\n",
    "            reconstructed_image = tokenizer.pixel_decoder(quantized_states)\n",
    "            images[i]=reconstructed_image\n",
    "\n",
    "\n",
    "    images = (images).clamp(0, 1)       \n",
    "    save_image(images, f\"images/{save_dir}.png\", nrow=4)\n",
    "\n"
   ]
  },
  {
   "cell_type": "code",
   "execution_count": null,
   "id": "3796b86a",
   "metadata": {},
   "outputs": [],
   "source": [
    "device = \"cuda:2\"\n",
    "config = demo_util.get_config(\"configs/titok_new.yaml\")\n",
    "titok_tokenizer = demo_util.get_titok_tokenizer_new(config).to(device)\n",
    "vqgan=PretrainedTokenizer(\"/private/task/wubin/1d-tokenizer-main/ckpt/maskgit-vqgan-imagenet-f16-256.bin\").to(device)\n",
    "\n",
    "token_add(tokenizer=titok_tokenizer,\n",
    "          vqgan=vqgan,\n",
    "          path=\"assets/ILSVRC2012_val_00008636.png\",\n",
    "          ckpt=\"\",\n",
    "          save_dir=\"\",\n",
    "          mode=\"stage1\",\n",
    "          device=device)"
   ]
  }
 ],
 "metadata": {
  "kernelspec": {
   "display_name": "1D",
   "language": "python",
   "name": "python3"
  },
  "language_info": {
   "codemirror_mode": {
    "name": "ipython",
    "version": 3
   },
   "file_extension": ".py",
   "mimetype": "text/x-python",
   "name": "python",
   "nbconvert_exporter": "python",
   "pygments_lexer": "ipython3",
   "version": "3.10.0"
  }
 },
 "nbformat": 4,
 "nbformat_minor": 5
}
